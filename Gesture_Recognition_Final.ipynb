{
 "cells": [
  {
   "cell_type": "markdown",
   "metadata": {},
   "source": [
    "# Gesture Recognition\n",
    "In this group project, you are going to build a 3D Conv model that will be able to predict the 5 gestures correctly. Please import the following libraries to get started."
   ]
  },
  {
   "cell_type": "code",
   "execution_count": 1,
   "metadata": {},
   "outputs": [],
   "source": [
    "import numpy as np\n",
    "import os\n",
    "from scipy.misc import imread, imresize\n",
    "import datetime\n",
    "import os\n",
    "import matplotlib.pyplot as plt"
   ]
  },
  {
   "cell_type": "markdown",
   "metadata": {},
   "source": [
    "We set the random seed so that the results don't vary drastically."
   ]
  },
  {
   "cell_type": "code",
   "execution_count": 2,
   "metadata": {},
   "outputs": [
    {
     "name": "stderr",
     "output_type": "stream",
     "text": [
      "Using TensorFlow backend.\n"
     ]
    }
   ],
   "source": [
    "np.random.seed(30)\n",
    "import random as rn\n",
    "rn.seed(30)\n",
    "from keras import backend as K\n",
    "import tensorflow as tf\n",
    "tf.set_random_seed(30)"
   ]
  },
  {
   "cell_type": "markdown",
   "metadata": {},
   "source": [
    "In this block, you read the folder names for training and validation. You also set the `batch_size` here. Note that you set the batch size in such a way that you are able to use the GPU in full capacity. You keep increasing the batch size until the machine throws an error."
   ]
  },
  {
   "cell_type": "code",
   "execution_count": 3,
   "metadata": {},
   "outputs": [],
   "source": [
    "train_doc = np.random.permutation(open('./Project_data/train.csv').readlines())\n",
    "val_doc = np.random.permutation(open('./Project_data/val.csv').readlines())\n",
    "batch_size = 9#experiment with the batch size"
   ]
  },
  {
   "cell_type": "markdown",
   "metadata": {},
   "source": [
    "## Generator\n",
    "This is one of the most important part of the code. The overall structure of the generator has been given. In the generator, you are going to preprocess the images as you have images of 2 different dimensions as well as create a batch of video frames. You have to experiment with `img_idx`, `y`,`z` and normalization such that you get high accuracy."
   ]
  },
  {
   "cell_type": "code",
   "execution_count": 4,
   "metadata": {},
   "outputs": [],
   "source": [
    "def generator(source_path, folder_list, batch_size, a, b, c, y, z):\n",
    "    print( 'Source path = ', source_path, '; batch size =', batch_size)\n",
    "    img_idx = [x for x in range(a,b,c)] # a,b,c are range for img_idx , create a list of image numbers you want to use for a particular video\n",
    "    while True:\n",
    "        t = np.random.permutation(folder_list)\n",
    "        num_batches = len(folder_list)//batch_size # calculate the number of batches\n",
    "        for batch in range(num_batches): # we iterate over the number of batches\n",
    "            batch_data = np.zeros((batch_size,((b-a)//c),y,z,3)) # x is the number of images you use for each video, (y,z) is the final size of the input images and 3 is the number of channels RGB\n",
    "            batch_labels = np.zeros((batch_size,5)) # batch_labels is the one hot representation of the output\n",
    "            for folder in range(batch_size): # iterate over the batch_size\n",
    "                imgs = os.listdir(source_path+'/'+ t[folder + (batch*batch_size)].split(';')[0]) # read all the images in the folder\n",
    "                for idx,item in enumerate(img_idx): #  Iterate iver the frames/images of a folder to read them in\n",
    "                    image = imread(source_path+'/'+ t[folder + (batch*batch_size)].strip().split(';')[0]+'/'+imgs[item]).astype(np.float32)\n",
    "                    \n",
    "                    #crop the images and resize them. Note that the images are of 2 different shape \n",
    "                    #and the conv3D will throw error if the inputs in a batch have different shapes\n",
    "                    \n",
    "                    resizedimage = imresize(image,(y,z)) #Resize Images and y,z are img size\n",
    "                    \n",
    "                    \n",
    "                    batch_data[folder,idx,:,:,0] = (resizedimage[:,:,0])/255  #normalise and feed in the image\n",
    "                    batch_data[folder,idx,:,:,1] = (resizedimage[:,:,1])/255  #normalise and feed in the image\n",
    "                    batch_data[folder,idx,:,:,2] = (resizedimage[:,:,2])/255  #normalise and feed in the image\n",
    "                    \n",
    "                batch_labels[folder, int(t[folder + (batch*batch_size)].strip().split(';')[2])] = 1\n",
    "            yield batch_data, batch_labels #you yield the batch_data and the batch_labels, remember what does yield do\n",
    "\n",
    "        \n",
    "        \n",
    "        if (len(folder_list)%batch_size) != 0:\n",
    "            batch_size = len(folder_list)-(batch_size*num_batches)\n",
    "            batch_data = np.zeros((batch_size,((b-a)//c),y,z,3)) # x is the number of images you use for each video, (y,z) is the final size of the input images and 3 is the number of channels RGB\n",
    "            batch_labels = np.zeros((batch_size,5)) # batch_labels is the one hot representation of the output\n",
    "            for folder in range(batch_size): # iterate over the batch_size\n",
    "                imgs = os.listdir(source_path+'/'+ t[folder + (batch*batch_size)].split(';')[0]) # read all the images in the folder\n",
    "                for idx,item in enumerate(img_idx): #  Iterate iver the frames/images of a folder to read them in\n",
    "                    image = imread(source_path+'/'+ t[folder + (batch*batch_size)].strip().split(';')[0]+'/'+imgs[item]).astype(np.float32)\n",
    "                    \n",
    "                    #crop the images and resize them. Note that the images are of 2 different shape \n",
    "                    #and the conv3D will throw error if the inputs in a batch have different shapes\n",
    "                    \n",
    "                    resizedimage = imresize(image,(y,z)) #Resize Images\n",
    "                    \n",
    "                    \n",
    "                    batch_data[folder,idx,:,:,0] = (resizedimage[:,:,0])/255  #normalise and feed in the image\n",
    "                    batch_data[folder,idx,:,:,1] = (resizedimage[:,:,1])/255  #normalise and feed in the image\n",
    "                    batch_data[folder,idx,:,:,2] = (resizedimage[:,:,2])/255  #normalise and feed in the image\n",
    "                    \n",
    "                batch_labels[folder, int(t[folder + (batch*batch_size)].strip().split(';')[2])] = 1\n",
    "            \n",
    "            yield batch_data, batch_labels\n",
    "            \n",
    "        \n"
   ]
  },
  {
   "cell_type": "markdown",
   "metadata": {},
   "source": [
    "Note here that a video is represented above in the generator as (number of images, height, width, number of channels). Take this into consideration while creating the model architecture."
   ]
  },
  {
   "cell_type": "code",
   "execution_count": 5,
   "metadata": {},
   "outputs": [
    {
     "name": "stdout",
     "output_type": "stream",
     "text": [
      "# training sequences = 663\n",
      "# validation sequences = 100\n",
      "# epochs = 9\n"
     ]
    }
   ],
   "source": [
    "curr_dt_time = datetime.datetime.now()\n",
    "train_path = './Project_data/train'\n",
    "val_path = './Project_data/val'\n",
    "num_train_sequences = len(train_doc)\n",
    "print('# training sequences =', num_train_sequences)\n",
    "num_val_sequences = len(val_doc)\n",
    "print('# validation sequences =', num_val_sequences)\n",
    "num_epochs = 9# choose the number of epochs\n",
    "print ('# epochs =', num_epochs)"
   ]
  },
  {
   "cell_type": "code",
   "execution_count": 6,
   "metadata": {},
   "outputs": [],
   "source": [
    "def modelplot(history):\n",
    "    fig, axes = plt.subplots(nrows=1, ncols=2, figsize=(16,4))\n",
    "    axes[0].plot(history.history['loss'])   \n",
    "    axes[0].plot(history.history['val_loss'])\n",
    "    axes[0].legend(['loss','val_loss'])\n",
    "    axes[0].set_title('Model Loss')\n",
    "\n",
    "    axes[1].plot(history.history['categorical_accuracy'])   \n",
    "    axes[1].plot(history.history['val_categorical_accuracy'])\n",
    "    axes[1].legend(['categorical_accuracy','val_categorical_accuracy'])\n",
    "    axes[1].set_title('Model Accuracy')"
   ]
  },
  {
   "cell_type": "markdown",
   "metadata": {},
   "source": [
    "## Model\n",
    "Here you make the model using different functionalities that Keras provides. Remember to use `Conv3D` and `MaxPooling3D` and not `Conv2D` and `Maxpooling2D` for a 3D convolution model. You would want to use `TimeDistributed` while building a Conv2D + RNN model. Also remember that the last layer is the softmax. Design the network in such a way that the model is able to give good accuracy on the least number of parameters so that it can fit in the memory of the webcam."
   ]
  },
  {
   "cell_type": "code",
   "execution_count": 7,
   "metadata": {},
   "outputs": [],
   "source": [
    "from keras.models import Sequential, Model\n",
    "from keras.layers import Dense, GRU, Flatten, TimeDistributed, Flatten, BatchNormalization, Activation, Dropout\n",
    "from keras.layers.convolutional import Conv3D, MaxPooling3D\n",
    "from keras.callbacks import ModelCheckpoint, ReduceLROnPlateau\n",
    "from keras import optimizers\n",
    "\n",
    "\n",
    "# a,b,c are range for img_idx and y,z are img size\n",
    "a = 2\n",
    "b = 30\n",
    "c = 1\n",
    "y = 70\n",
    "z = 70\n",
    "\n",
    "model1 = Sequential()\n",
    "\n",
    "model1.add(Conv3D(32, #number of filters \n",
    "                 kernel_size=(2,2,2), \n",
    "                 input_shape=(((b-a)//c), y, z, 3),\n",
    "                 padding='same'))\n",
    "model1.add(Activation('relu'))\n",
    "\n",
    "model1.add(MaxPooling3D(pool_size=(3,3,3)))\n",
    "model1.add(Dropout(0.1))\n",
    "\n",
    "model1.add(Conv3D(64, #Number of filters, \n",
    "                 kernel_size=(2,2,2), \n",
    "                 padding='same'))\n",
    "model1.add(Activation('relu'))\n",
    "\n",
    "model1.add(MaxPooling3D(pool_size=(3,3,3)))\n",
    "model1.add(Dropout(0.1))\n",
    "\n",
    "model1.add(Conv3D(128, #Number of filters \n",
    "                 kernel_size=(3,3,3), \n",
    "                 padding='same'))\n",
    "model1.add(Activation('relu'))\n",
    "\n",
    "model1.add(MaxPooling3D((2,2,2), padding='same'))\n",
    "model1.add(Dropout(0.5))\n",
    "\n",
    "#Flatten Layers\n",
    "model1.add(Flatten())\n",
    "\n",
    "model1.add(Dense(512, activation='relu'))\n",
    "model1.add(Dropout(0.5))\n",
    "\n",
    "#softmax layer\n",
    "model1.add(Dense(5, activation='softmax'))"
   ]
  },
  {
   "cell_type": "markdown",
   "metadata": {},
   "source": [
    "Now that you have written the model, the next step is to `compile` the model. When you print the `summary` of the model, you'll see the total number of parameters you have to train."
   ]
  },
  {
   "cell_type": "code",
   "execution_count": 8,
   "metadata": {
    "scrolled": false
   },
   "outputs": [
    {
     "name": "stdout",
     "output_type": "stream",
     "text": [
      "_________________________________________________________________\n",
      "Layer (type)                 Output Shape              Param #   \n",
      "=================================================================\n",
      "conv3d_1 (Conv3D)            (None, 28, 70, 70, 32)    800       \n",
      "_________________________________________________________________\n",
      "activation_1 (Activation)    (None, 28, 70, 70, 32)    0         \n",
      "_________________________________________________________________\n",
      "max_pooling3d_1 (MaxPooling3 (None, 9, 23, 23, 32)     0         \n",
      "_________________________________________________________________\n",
      "dropout_1 (Dropout)          (None, 9, 23, 23, 32)     0         \n",
      "_________________________________________________________________\n",
      "conv3d_2 (Conv3D)            (None, 9, 23, 23, 64)     16448     \n",
      "_________________________________________________________________\n",
      "activation_2 (Activation)    (None, 9, 23, 23, 64)     0         \n",
      "_________________________________________________________________\n",
      "max_pooling3d_2 (MaxPooling3 (None, 3, 7, 7, 64)       0         \n",
      "_________________________________________________________________\n",
      "dropout_2 (Dropout)          (None, 3, 7, 7, 64)       0         \n",
      "_________________________________________________________________\n",
      "conv3d_3 (Conv3D)            (None, 3, 7, 7, 128)      221312    \n",
      "_________________________________________________________________\n",
      "activation_3 (Activation)    (None, 3, 7, 7, 128)      0         \n",
      "_________________________________________________________________\n",
      "max_pooling3d_3 (MaxPooling3 (None, 2, 4, 4, 128)      0         \n",
      "_________________________________________________________________\n",
      "dropout_3 (Dropout)          (None, 2, 4, 4, 128)      0         \n",
      "_________________________________________________________________\n",
      "flatten_1 (Flatten)          (None, 4096)              0         \n",
      "_________________________________________________________________\n",
      "dense_1 (Dense)              (None, 512)               2097664   \n",
      "_________________________________________________________________\n",
      "dropout_4 (Dropout)          (None, 512)               0         \n",
      "_________________________________________________________________\n",
      "dense_2 (Dense)              (None, 5)                 2565      \n",
      "=================================================================\n",
      "Total params: 2,338,789\n",
      "Trainable params: 2,338,789\n",
      "Non-trainable params: 0\n",
      "_________________________________________________________________\n",
      "None\n"
     ]
    }
   ],
   "source": [
    "optimiser = optimizers.Adam(lr=0.001)\n",
    "model1.compile(optimizer=optimiser, loss='categorical_crossentropy', metrics=['categorical_accuracy'])\n",
    "print (model1.summary())"
   ]
  },
  {
   "cell_type": "markdown",
   "metadata": {},
   "source": [
    "Let us create the `train_generator` and the `val_generator` which will be used in `.fit_generator`."
   ]
  },
  {
   "cell_type": "code",
   "execution_count": 9,
   "metadata": {},
   "outputs": [],
   "source": [
    "# a,b,c are range for img_idx and y,z are img size\n",
    "a = 2\n",
    "b = 30\n",
    "c = 1\n",
    "y = 70\n",
    "z = 70\n",
    "batch_size = 40\n",
    "num_epochs = 25\n",
    "\n",
    "train_generator = generator(train_path, train_doc, batch_size,a,b,c,y,z)\n",
    "val_generator = generator(val_path, val_doc, batch_size,a,b,c,y,z)"
   ]
  },
  {
   "cell_type": "code",
   "execution_count": 10,
   "metadata": {},
   "outputs": [],
   "source": [
    "model_name = 'model_init' + '_' + str(curr_dt_time).replace(' ','').replace(':','_') + '/'\n",
    "    \n",
    "if not os.path.exists(model_name):\n",
    "    os.mkdir(model_name)\n",
    "        \n",
    "filepath = model_name + 'model-{epoch:05d}-{loss:.5f}-{categorical_accuracy:.5f}-{val_loss:.5f}-{val_categorical_accuracy:.5f}.h5'\n",
    "\n",
    "checkpoint = ModelCheckpoint(filepath, monitor='val_loss', verbose=1, save_best_only=False, save_weights_only=False, mode='auto', period=1)\n",
    "\n",
    "LR = ReduceLROnPlateau(monitor='val_loss', factor=0.5, patience=2, cooldown=1, verbose=1) #Reduce Learning Rate on Epoch Plateau\n",
    "callbacks_list = [checkpoint, LR]"
   ]
  },
  {
   "cell_type": "markdown",
   "metadata": {},
   "source": [
    "The `steps_per_epoch` and `validation_steps` are used by `fit_generator` to decide the number of next() calls it need to make."
   ]
  },
  {
   "cell_type": "code",
   "execution_count": 11,
   "metadata": {},
   "outputs": [],
   "source": [
    "if (num_train_sequences%batch_size) == 0:\n",
    "    steps_per_epoch = int(num_train_sequences/batch_size)\n",
    "else:\n",
    "    steps_per_epoch = (num_train_sequences//batch_size) + 1\n",
    "\n",
    "if (num_val_sequences%batch_size) == 0:\n",
    "    validation_steps = int(num_val_sequences/batch_size)\n",
    "else:\n",
    "    validation_steps = (num_val_sequences//batch_size) + 1"
   ]
  },
  {
   "cell_type": "markdown",
   "metadata": {},
   "source": [
    "Let us now fit the model. This will start training the model and with the help of the checkpoints, you'll be able to save the model at the end of each epoch."
   ]
  },
  {
   "cell_type": "code",
   "execution_count": 12,
   "metadata": {
    "scrolled": false
   },
   "outputs": [
    {
     "name": "stdout",
     "output_type": "stream",
     "text": [
      "Source path =  ./Project_data/val ; batch size = 40\n",
      "Source path =  ./Project_data/train ; batch size = 40\n",
      "Epoch 1/25\n"
     ]
    },
    {
     "name": "stderr",
     "output_type": "stream",
     "text": [
      "/mnt/disks/user/anaconda3/lib/python3.6/site-packages/ipykernel_launcher.py:13: DeprecationWarning: `imread` is deprecated!\n",
      "`imread` is deprecated in SciPy 1.0.0, and will be removed in 1.2.0.\n",
      "Use ``imageio.imread`` instead.\n",
      "  del sys.path[0]\n",
      "/mnt/disks/user/anaconda3/lib/python3.6/site-packages/ipykernel_launcher.py:18: DeprecationWarning: `imresize` is deprecated!\n",
      "`imresize` is deprecated in SciPy 1.0.0, and will be removed in 1.2.0.\n",
      "Use ``skimage.transform.resize`` instead.\n"
     ]
    },
    {
     "name": "stdout",
     "output_type": "stream",
     "text": [
      " 2/17 [==>...........................] - ETA: 1:20 - loss: 1.7324 - categorical_accuracy: 0.1125"
     ]
    },
    {
     "name": "stderr",
     "output_type": "stream",
     "text": [
      "/mnt/disks/user/anaconda3/lib/python3.6/site-packages/ipykernel_launcher.py:37: DeprecationWarning: `imread` is deprecated!\n",
      "`imread` is deprecated in SciPy 1.0.0, and will be removed in 1.2.0.\n",
      "Use ``imageio.imread`` instead.\n",
      "/mnt/disks/user/anaconda3/lib/python3.6/site-packages/ipykernel_launcher.py:42: DeprecationWarning: `imresize` is deprecated!\n",
      "`imresize` is deprecated in SciPy 1.0.0, and will be removed in 1.2.0.\n",
      "Use ``skimage.transform.resize`` instead.\n"
     ]
    },
    {
     "name": "stdout",
     "output_type": "stream",
     "text": [
      "17/17 [==============================] - 69s 4s/step - loss: 1.6557 - categorical_accuracy: 0.1789 - val_loss: 1.6036 - val_categorical_accuracy: 0.3700\n",
      "\n",
      "Epoch 00001: saving model to model_init_2020-12-2917_14_23.610968/model-00001-1.65691-0.17798-1.60358-0.37000.h5\n",
      "Epoch 2/25\n",
      "17/17 [==============================] - 37s 2s/step - loss: 1.5822 - categorical_accuracy: 0.2174 - val_loss: 1.5461 - val_categorical_accuracy: 0.2167\n",
      "\n",
      "Epoch 00002: saving model to model_init_2020-12-2917_14_23.610968/model-00002-1.58224-0.21739-1.54606-0.21667.h5\n",
      "Epoch 3/25\n",
      "17/17 [==============================] - 35s 2s/step - loss: 1.4890 - categorical_accuracy: 0.3350 - val_loss: 1.2691 - val_categorical_accuracy: 0.5167\n",
      "\n",
      "Epoch 00003: saving model to model_init_2020-12-2917_14_23.610968/model-00003-1.49389-0.32970-1.26914-0.51667.h5\n",
      "Epoch 4/25\n",
      "17/17 [==============================] - 32s 2s/step - loss: 1.3924 - categorical_accuracy: 0.3746 - val_loss: 1.2385 - val_categorical_accuracy: 0.5667\n",
      "\n",
      "Epoch 00004: saving model to model_init_2020-12-2917_14_23.610968/model-00004-1.39239-0.37461-1.23847-0.56667.h5\n",
      "Epoch 5/25\n",
      "17/17 [==============================] - 30s 2s/step - loss: 1.3758 - categorical_accuracy: 0.4083 - val_loss: 1.3632 - val_categorical_accuracy: 0.3833\n",
      "\n",
      "Epoch 00005: saving model to model_init_2020-12-2917_14_23.610968/model-00005-1.37735-0.40895-1.36321-0.38333.h5\n",
      "Epoch 6/25\n",
      "17/17 [==============================] - 29s 2s/step - loss: 1.2581 - categorical_accuracy: 0.4325 - val_loss: 1.1479 - val_categorical_accuracy: 0.5167\n",
      "\n",
      "Epoch 00006: saving model to model_init_2020-12-2917_14_23.610968/model-00006-1.25813-0.43253-1.14795-0.51667.h5\n",
      "Epoch 7/25\n",
      "17/17 [==============================] - 27s 2s/step - loss: 1.1165 - categorical_accuracy: 0.5398 - val_loss: 1.1297 - val_categorical_accuracy: 0.5167\n",
      "\n",
      "Epoch 00007: saving model to model_init_2020-12-2917_14_23.610968/model-00007-1.11654-0.53979-1.12966-0.51667.h5\n",
      "Epoch 8/25\n",
      "17/17 [==============================] - 29s 2s/step - loss: 1.1036 - categorical_accuracy: 0.5329 - val_loss: 0.9399 - val_categorical_accuracy: 0.5667\n",
      "\n",
      "Epoch 00008: saving model to model_init_2020-12-2917_14_23.610968/model-00008-1.10355-0.53287-0.93990-0.56667.h5\n",
      "Epoch 9/25\n",
      "17/17 [==============================] - 27s 2s/step - loss: 0.9649 - categorical_accuracy: 0.6021 - val_loss: 0.8864 - val_categorical_accuracy: 0.6333\n",
      "\n",
      "Epoch 00009: saving model to model_init_2020-12-2917_14_23.610968/model-00009-0.96487-0.60208-0.88636-0.63333.h5\n",
      "Epoch 10/25\n",
      "17/17 [==============================] - 26s 2s/step - loss: 0.9323 - categorical_accuracy: 0.6055 - val_loss: 0.7574 - val_categorical_accuracy: 0.6500\n",
      "\n",
      "Epoch 00010: saving model to model_init_2020-12-2917_14_23.610968/model-00010-0.93232-0.60554-0.75738-0.65000.h5\n",
      "Epoch 11/25\n",
      "17/17 [==============================] - 29s 2s/step - loss: 0.8935 - categorical_accuracy: 0.6401 - val_loss: 0.8254 - val_categorical_accuracy: 0.7167\n",
      "\n",
      "Epoch 00011: saving model to model_init_2020-12-2917_14_23.610968/model-00011-0.89353-0.64014-0.82537-0.71667.h5\n",
      "Epoch 12/25\n",
      "17/17 [==============================] - 29s 2s/step - loss: 0.7920 - categorical_accuracy: 0.6574 - val_loss: 0.7742 - val_categorical_accuracy: 0.6833\n",
      "\n",
      "Epoch 00012: saving model to model_init_2020-12-2917_14_23.610968/model-00012-0.79205-0.65744-0.77415-0.68333.h5\n",
      "\n",
      "Epoch 00012: ReduceLROnPlateau reducing learning rate to 0.0005000000237487257.\n",
      "Epoch 13/25\n",
      "17/17 [==============================] - 27s 2s/step - loss: 0.6871 - categorical_accuracy: 0.7266 - val_loss: 0.5405 - val_categorical_accuracy: 0.8500\n",
      "\n",
      "Epoch 00013: saving model to model_init_2020-12-2917_14_23.610968/model-00013-0.68706-0.72664-0.54045-0.85000.h5\n",
      "Epoch 14/25\n",
      "17/17 [==============================] - 29s 2s/step - loss: 0.6306 - categorical_accuracy: 0.7405 - val_loss: 0.7138 - val_categorical_accuracy: 0.6833\n",
      "\n",
      "Epoch 00014: saving model to model_init_2020-12-2917_14_23.610968/model-00014-0.63058-0.74048-0.71385-0.68333.h5\n",
      "Epoch 15/25\n",
      "17/17 [==============================] - 28s 2s/step - loss: 0.5818 - categorical_accuracy: 0.7820 - val_loss: 0.5714 - val_categorical_accuracy: 0.8167\n",
      "\n",
      "Epoch 00015: saving model to model_init_2020-12-2917_14_23.610968/model-00015-0.58178-0.78201-0.57141-0.81667.h5\n",
      "\n",
      "Epoch 00015: ReduceLROnPlateau reducing learning rate to 0.0002500000118743628.\n",
      "Epoch 16/25\n",
      "17/17 [==============================] - 29s 2s/step - loss: 0.4827 - categorical_accuracy: 0.8062 - val_loss: 0.6344 - val_categorical_accuracy: 0.7833\n",
      "\n",
      "Epoch 00016: saving model to model_init_2020-12-2917_14_23.610968/model-00016-0.48271-0.80623-0.63436-0.78333.h5\n",
      "Epoch 17/25\n",
      "17/17 [==============================] - 27s 2s/step - loss: 0.5417 - categorical_accuracy: 0.7820 - val_loss: 0.5679 - val_categorical_accuracy: 0.7667\n",
      "\n",
      "Epoch 00017: saving model to model_init_2020-12-2917_14_23.610968/model-00017-0.54170-0.78201-0.56791-0.76667.h5\n",
      "\n",
      "Epoch 00017: ReduceLROnPlateau reducing learning rate to 0.0001250000059371814.\n",
      "Epoch 18/25\n",
      "17/17 [==============================] - 28s 2s/step - loss: 0.4277 - categorical_accuracy: 0.8408 - val_loss: 0.5183 - val_categorical_accuracy: 0.8333\n",
      "\n",
      "Epoch 00018: saving model to model_init_2020-12-2917_14_23.610968/model-00018-0.42775-0.84083-0.51835-0.83333.h5\n",
      "Epoch 19/25\n",
      "17/17 [==============================] - 27s 2s/step - loss: 0.3980 - categorical_accuracy: 0.8443 - val_loss: 0.4322 - val_categorical_accuracy: 0.8667\n",
      "\n",
      "Epoch 00019: saving model to model_init_2020-12-2917_14_23.610968/model-00019-0.39798-0.84429-0.43216-0.86667.h5\n",
      "Epoch 20/25\n",
      "17/17 [==============================] - 29s 2s/step - loss: 0.4519 - categorical_accuracy: 0.8408 - val_loss: 0.4817 - val_categorical_accuracy: 0.8833\n",
      "\n",
      "Epoch 00020: saving model to model_init_2020-12-2917_14_23.610968/model-00020-0.45188-0.84083-0.48172-0.88333.h5\n",
      "Epoch 21/25\n",
      "17/17 [==============================] - 28s 2s/step - loss: 0.4274 - categorical_accuracy: 0.8270 - val_loss: 0.5765 - val_categorical_accuracy: 0.8167\n",
      "\n",
      "Epoch 00021: saving model to model_init_2020-12-2917_14_23.610968/model-00021-0.42741-0.82699-0.57647-0.81667.h5\n",
      "\n",
      "Epoch 00021: ReduceLROnPlateau reducing learning rate to 6.25000029685907e-05.\n",
      "Epoch 22/25\n",
      "17/17 [==============================] - 28s 2s/step - loss: 0.3675 - categorical_accuracy: 0.8754 - val_loss: 0.4352 - val_categorical_accuracy: 0.8667\n",
      "\n",
      "Epoch 00022: saving model to model_init_2020-12-2917_14_23.610968/model-00022-0.36747-0.87543-0.43525-0.86667.h5\n",
      "Epoch 23/25\n",
      "17/17 [==============================] - 28s 2s/step - loss: 0.4488 - categorical_accuracy: 0.8235 - val_loss: 0.5802 - val_categorical_accuracy: 0.8500\n",
      "\n",
      "Epoch 00023: saving model to model_init_2020-12-2917_14_23.610968/model-00023-0.44880-0.82353-0.58016-0.85000.h5\n",
      "\n",
      "Epoch 00023: ReduceLROnPlateau reducing learning rate to 3.125000148429535e-05.\n",
      "Epoch 24/25\n",
      "17/17 [==============================] - 27s 2s/step - loss: 0.3580 - categorical_accuracy: 0.8616 - val_loss: 0.4081 - val_categorical_accuracy: 0.9167\n",
      "\n",
      "Epoch 00024: saving model to model_init_2020-12-2917_14_23.610968/model-00024-0.35801-0.86159-0.40810-0.91667.h5\n",
      "Epoch 25/25\n",
      "17/17 [==============================] - 28s 2s/step - loss: 0.4046 - categorical_accuracy: 0.8547 - val_loss: 0.4556 - val_categorical_accuracy: 0.8500\n",
      "\n",
      "Epoch 00025: saving model to model_init_2020-12-2917_14_23.610968/model-00025-0.40460-0.85467-0.45559-0.85000.h5\n"
     ]
    }
   ],
   "source": [
    "history1 = model1.fit_generator(train_generator, steps_per_epoch=steps_per_epoch, epochs=num_epochs, verbose=1, \n",
    "                    callbacks=callbacks_list, validation_data=val_generator, \n",
    "                    validation_steps=validation_steps, class_weight=None, workers=1, initial_epoch=0)\n"
   ]
  },
  {
   "cell_type": "code",
   "execution_count": 13,
   "metadata": {},
   "outputs": [
    {
     "data": {
      "image/png": "[encoded data removed]",
      "text/plain": [
       "<Figure size 1152x288 with 2 Axes>"
      ]
     },
     "metadata": {},
     "output_type": "display_data"
    }
   ],
   "source": [
    "modelplot(history1)"
   ]
  }
 ],
 "metadata": {
  "kernelspec": {
   "display_name": "Python 3",
   "language": "python",
   "name": "python3"
  },
  "language_info": {
   "codemirror_mode": {
    "name": "ipython",
    "version": 3
   },
   "file_extension": ".py",
   "mimetype": "text/x-python",
   "name": "python",
   "nbconvert_exporter": "python",
   "pygments_lexer": "ipython3",
   "version": "3.7.6"
  }
 },
 "nbformat": 4,
 "nbformat_minor": 2
}
